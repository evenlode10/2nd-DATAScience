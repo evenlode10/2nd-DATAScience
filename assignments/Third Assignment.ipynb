{
 "cells": [
  {
   "cell_type": "markdown",
   "metadata": {},
   "source": [
    "# Third Assignment: Personal Project"
   ]
  },
  {
   "cell_type": "markdown",
   "metadata": {},
   "source": [
    "In this third and final assignment you have the opportunity to choose a dataset and perform data analysis to answer the type of questions that interest you or will utilise a technique that you want to gain experience in. \n",
    "\n",
    "You may wish to select a dataset that we have already looked at (e.g. Titanic, or IMDB), or select another open-source dataset from Kaggle (or other). Once you've selected a dataset to investigate, proceed to complete the template cells below. In the markdown cells, you should provide a brief introduction to the dataset, and write the questions that you will investigate. Then use the code cells to answer the questions you select.\n",
    "\n",
    "### Logistics\n",
    "\n",
    "**Deadline.** Tutor to confirm deadline. Submission will be made via the Assignments tab in Canvas. Late submissions will not be accepted. This notebook forms Part 3 of the Total Assignment.\n",
    "\n",
    "**Rules.** Don't share your code with anybody. You are welcome to discuss questions with other students, but don't share the answers. This Part 3 of the assignment portfolio will account for the remaining 30 points.\n",
    "\n",
    "**Support.** You are not alone! Discussion forums will be stay active up until after the assignment deadline. Please feel free to ask each other questions and discuss approaches, even if you're not in the same physical classroom. The tutor will be available to answer general questions too, so please **do not hesitate** to ask questions even after the last week of term. \n",
    "\n",
    "**Advice.** Develop your answers incrementally. To perform a complicated table manipulation, break it up into steps, perform each step on a different line, give a new name to each result, and check that each intermediate result is what you expect. You can add any additional names or functions you want to the provided cells. \n",
    "\n",
    "To get started, <b>choose a dataset</b> and load `pandas`, `numpy`, and `matplotlib`."
   ]
  },
  {
   "cell_type": "markdown",
   "metadata": {},
   "source": [
    "## [Provide a brief introduction to your dataset here]\n",
    "\n",
    "It would be good to briefly introduce your dataset here. You could also illustrate an overview of the column information, and a sample of rows from the database using some methods that we have looked at. "
   ]
  },
  {
   "cell_type": "code",
   "execution_count": null,
   "metadata": {},
   "outputs": [],
   "source": [
    "# Add setup code here - set the path to the chosen dataset, and import the relevant Python libraries."
   ]
  },
  {
   "cell_type": "markdown",
   "metadata": {
    "deletable": false,
    "editable": false
   },
   "source": [
    "## 1. [Choose and write a question here] \n",
    "### (e.g. What percentage of male and female passengers perished?)\n"
   ]
  },
  {
   "cell_type": "code",
   "execution_count": null,
   "metadata": {},
   "outputs": [],
   "source": [
    "# Add code here to answer this question"
   ]
  },
  {
   "cell_type": "markdown",
   "metadata": {},
   "source": [
    "## 2. [Choose and write a question here]\n",
    "### (e.g. Were people travelling alone more at risk?)"
   ]
  },
  {
   "cell_type": "code",
   "execution_count": null,
   "metadata": {},
   "outputs": [],
   "source": [
    "# Add code here to answer this question"
   ]
  },
  {
   "cell_type": "markdown",
   "metadata": {},
   "source": [
    "## 3. [Choose and write a question here]\n",
    "\n",
    "### (e.g. Did the port of departure affect the cost of the ticket?)"
   ]
  },
  {
   "cell_type": "code",
   "execution_count": null,
   "metadata": {},
   "outputs": [],
   "source": [
    "# Add code here to answer this question"
   ]
  }
 ],
 "metadata": {
  "kernelspec": {
   "display_name": "Python 3.9.12 ('base')",
   "language": "python",
   "name": "python3"
  },
  "language_info": {
   "codemirror_mode": {
    "name": "ipython",
    "version": 3
   },
   "file_extension": ".py",
   "mimetype": "text/x-python",
   "name": "python",
   "nbconvert_exporter": "python",
   "pygments_lexer": "ipython3",
   "version": "3.9.12"
  },
  "vscode": {
   "interpreter": {
    "hash": "c24ecc2928a1df641fb89905a028e959d05eac4f79c1af53f0bb766b01409011"
   }
  }
 },
 "nbformat": 4,
 "nbformat_minor": 1
}
